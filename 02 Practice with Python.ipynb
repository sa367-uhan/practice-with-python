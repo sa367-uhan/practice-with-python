{
 "cells": [
  {
   "cell_type": "markdown",
   "metadata": {},
   "source": [
    "# Practice with Python"
   ]
  },
  {
   "cell_type": "markdown",
   "metadata": {},
   "source": [
    "## Problem 1. Building lists."
   ]
  },
  {
   "cell_type": "markdown",
   "metadata": {},
   "source": [
    "The goal of this problem is to give you practice with building lists.\n",
    "\n",
    "Recall that $x$ degrees Celsius is\n",
    "\n",
    "$$\\frac{9}{5} x + 32$$\n",
    "\n",
    "degrees Fahrenheit. Create a list with the temperatures in degrees Celsius given below, converted to degrees Fahrenheit. Print the list of converted temperatures."
   ]
  },
  {
   "cell_type": "code",
   "execution_count": 1,
   "metadata": {},
   "outputs": [
    {
     "name": "stdout",
     "output_type": "stream",
     "text": [
      "Temperatures in deg F = [102.56, 91.94, 97.7, 88.88, 99.14, 100.03999999999999, 107.78, 83.48]\n"
     ]
    }
   ],
   "source": [
    "# List of temperatures to convert\n",
    "celsius = [39.2, 33.3, 36.5, 31.6, 37.3, 37.8, 42.1, 28.6]\n",
    "\n",
    "# List of temperatures in Fahrenheit\n",
    "fahrenheit = []\n",
    "for temp in celsius:\n",
    "    fahrenheit.append((9/5)*temp + 32)\n",
    "    \n",
    "# Print the list of temperatures in Fahrenheit\n",
    "print(f\"Temperatures in deg F = {fahrenheit}\")"
   ]
  },
  {
   "cell_type": "markdown",
   "metadata": {},
   "source": [
    "## Problem 2. List methods, reading and using documentation"
   ]
  },
  {
   "cell_type": "markdown",
   "metadata": {},
   "source": [
    "The goal of this problem is to introduce you to different list methods, and to give you some practice with reading and using documentation.\n",
    "\n",
    "Read the Python documentation on list methods found in Section 5.1 [here](https://docs.python.org/3.7/tutorial/datastructures.html). Use these methods to do the following with the list of student names given below.\n",
    "\n",
    "* Find the index of first student named Zelda in the list.\n",
    "* Insert your name in the 3rd position of the list. Print the list to check your work.\n",
    "* Sort the list in alphabetical order. Print the list to check your work.\n",
    "* Find how many students named Junior are in the list.\n",
    "* Remove Leo from the list. Print the list to check your work."
   ]
  },
  {
   "cell_type": "code",
   "execution_count": 2,
   "metadata": {},
   "outputs": [],
   "source": [
    "# List of student names, generated courtesy of http://listofrandomnames.com\n",
    "students = [\"Sterling\", \"Malika\", \"Junior\", \"Shiloh\", \"Zelda\", \"Helene\", \"Leo\", \"Junior\", \"Jacinto\", \"Craig\"]"
   ]
  },
  {
   "cell_type": "code",
   "execution_count": 3,
   "metadata": {},
   "outputs": [
    {
     "data": {
      "text/plain": [
       "4"
      ]
     },
     "execution_count": 3,
     "metadata": {},
     "output_type": "execute_result"
    }
   ],
   "source": [
    "# Find the index of first student named Zelda in the list\n",
    "students.index(\"Zelda\")"
   ]
  },
  {
   "cell_type": "code",
   "execution_count": 4,
   "metadata": {},
   "outputs": [
    {
     "name": "stdout",
     "output_type": "stream",
     "text": [
      "['Sterling', 'Malika', 'Nelson', 'Junior', 'Shiloh', 'Zelda', 'Helene', 'Leo', 'Junior', 'Jacinto', 'Craig']\n"
     ]
    }
   ],
   "source": [
    "# Insert your name in the 3rd position of the list\n",
    "students.insert(2, \"Nelson\")\n",
    "print(students)"
   ]
  },
  {
   "cell_type": "code",
   "execution_count": 5,
   "metadata": {},
   "outputs": [
    {
     "name": "stdout",
     "output_type": "stream",
     "text": [
      "['Craig', 'Helene', 'Jacinto', 'Junior', 'Junior', 'Leo', 'Malika', 'Nelson', 'Shiloh', 'Sterling', 'Zelda']\n"
     ]
    }
   ],
   "source": [
    "# Sort the list in alphabetical order\n",
    "students.sort()\n",
    "print(students)"
   ]
  },
  {
   "cell_type": "code",
   "execution_count": 6,
   "metadata": {},
   "outputs": [
    {
     "data": {
      "text/plain": [
       "2"
      ]
     },
     "execution_count": 6,
     "metadata": {},
     "output_type": "execute_result"
    }
   ],
   "source": [
    "# Find how many students named Junior are in the list\n",
    "students.count(\"Junior\")"
   ]
  },
  {
   "cell_type": "code",
   "execution_count": 7,
   "metadata": {},
   "outputs": [
    {
     "name": "stdout",
     "output_type": "stream",
     "text": [
      "['Craig', 'Helene', 'Jacinto', 'Junior', 'Junior', 'Malika', 'Nelson', 'Shiloh', 'Sterling', 'Zelda']\n"
     ]
    }
   ],
   "source": [
    "# Remove Leo from the list\n",
    "students.remove(\"Leo\")\n",
    "print(students)"
   ]
  },
  {
   "cell_type": "markdown",
   "metadata": {},
   "source": [
    "## Problem 3. Working with dictionaries"
   ]
  },
  {
   "cell_type": "markdown",
   "metadata": {},
   "source": [
    "The goal of this problem is to introduce you to a few more ways to work with dictionaries.\n",
    "\n",
    "In class, we built a dictionary by starting with an empty dictionary and adding key-value pairs. We can also define a dictionary with initial key-value pairs like this:"
   ]
  },
  {
   "cell_type": "code",
   "execution_count": 8,
   "metadata": {},
   "outputs": [],
   "source": [
    "# Initial dictionary of state capitals\n",
    "capital = {\"CA\": \"Sacramento\", \"MI\": \"Lansing\", \"FL\": \"Tallahassee\"}"
   ]
  },
  {
   "cell_type": "markdown",
   "metadata": {},
   "source": [
    "Print the value of `capitals[\"MI\"]` in the cell below - it should give you the capital of Michigan."
   ]
  },
  {
   "cell_type": "code",
   "execution_count": 9,
   "metadata": {},
   "outputs": [
    {
     "name": "stdout",
     "output_type": "stream",
     "text": [
      "Lansing\n"
     ]
    }
   ],
   "source": [
    "# Print the capital of MI\n",
    "print(capital[\"MI\"])"
   ]
  },
  {
   "cell_type": "markdown",
   "metadata": {},
   "source": [
    "See how that works?\n",
    "\n",
    "Add the state capitals of Maryland, Ohio, and Texas to this dictionary. Don't forget the quotation marks!"
   ]
  },
  {
   "cell_type": "code",
   "execution_count": 10,
   "metadata": {},
   "outputs": [],
   "source": [
    "# Add the state capitals of MD, OH, TX\n",
    "capital[\"MD\"] = \"Annapolis\"\n",
    "capital[\"OH\"] = \"Columbus\"\n",
    "capital[\"TX\"] = \"Austin\""
   ]
  },
  {
   "cell_type": "markdown",
   "metadata": {},
   "source": [
    "We can loop through the key-value pairs of a dictionary using the `.items()` method.\n",
    "\n",
    "For example, `capital.items()` is a list of the key-value pairs in the dictionary `capital`. So, we can loop through the key-value pairs like this:"
   ]
  },
  {
   "cell_type": "code",
   "execution_count": 11,
   "metadata": {},
   "outputs": [
    {
     "name": "stdout",
     "output_type": "stream",
     "text": [
      "The capital of CA is Sacramento.\n",
      "The capital of MI is Lansing.\n",
      "The capital of FL is Tallahassee.\n",
      "The capital of MD is Annapolis.\n",
      "The capital of OH is Columbus.\n",
      "The capital of TX is Austin.\n"
     ]
    }
   ],
   "source": [
    "# Loop through all the key-value pairs of the capital dictionary\n",
    "for state, city in capital.items():\n",
    "    print(f\"The capital of {state} is {city}.\")"
   ]
  },
  {
   "cell_type": "markdown",
   "metadata": {},
   "source": [
    "Use a `for` loop with the `.items()` method to print a statement about each key-value pair in the dictionary of state abbreviations defined below."
   ]
  },
  {
   "cell_type": "code",
   "execution_count": 12,
   "metadata": {},
   "outputs": [
    {
     "name": "stdout",
     "output_type": "stream",
     "text": [
      "The abbreviation for Oregon is OR.\n",
      "The abbreviation for Florida is FL.\n",
      "The abbreviation for California is CA.\n",
      "The abbreviation for New York is NY.\n",
      "The abbreviation for Michigan is MI.\n"
     ]
    }
   ],
   "source": [
    "# Dictionary of state abbreviations\n",
    "abbreviation = {\"Oregon\": \"OR\", \"Florida\": \"FL\", \"California\": \"CA\", \"New York\": \"NY\", \"Michigan\": \"MI\"}\n",
    "\n",
    "# Print a statement about each key-value pair in the dictionary of state abbreviations\n",
    "for state, abbrev in abbreviation.items():\n",
    "    print(f\"The abbreviation for {state} is {abbrev}.\")"
   ]
  }
 ],
 "metadata": {
  "kernelspec": {
   "display_name": "Python 3",
   "language": "python",
   "name": "python3"
  },
  "language_info": {
   "codemirror_mode": {
    "name": "ipython",
    "version": 3
   },
   "file_extension": ".py",
   "mimetype": "text/x-python",
   "name": "python",
   "nbconvert_exporter": "python",
   "pygments_lexer": "ipython3",
   "version": "3.6.4"
  }
 },
 "nbformat": 4,
 "nbformat_minor": 1
}
